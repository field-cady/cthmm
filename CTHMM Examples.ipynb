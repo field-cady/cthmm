{
 "cells": [
  {
   "cell_type": "markdown",
   "id": "838c34a4",
   "metadata": {},
   "source": [
    "# Continuous-Time HMMs\n",
    "This notebook gives the basic use of the CTHMM python library, a tool for working with continuous-time hidden markov models (CTHMMs).\n",
    "\n",
    "This tutorial is broken into several sections:\n",
    "1. Constructing a multinomial CTHMM with known parameters and simulating data\n",
    "2. Fitting a CTHMM to observations\n",
    "3. Decoding observations using a CTHMM\n",
    "4. Interpolating the state at times where we have no observations\n",
    "\n",
    "CTHMMs are a generalization of [hidden markov models](https://en.wikipedia.org/wiki/Hidden_Markov_model) to the case where 1) time varies contnuously, rather than proceeding in discrete steps, and 2) observations come at irregular intervals.  This shows up, for example, in medical contexts where patients' data is only taken when they see a doctor."
   ]
  },
  {
   "cell_type": "code",
   "execution_count": 2,
   "id": "83cebb2f",
   "metadata": {},
   "outputs": [
    {
     "data": {
      "text/plain": [
       "'C:\\\\Users\\\\field\\\\OneDrive\\\\Desktop\\\\cthmm'"
      ]
     },
     "execution_count": 2,
     "metadata": {},
     "output_type": "execute_result"
    }
   ],
   "source": [
    "import os\n",
    "os.getcwd()"
   ]
  },
  {
   "cell_type": "code",
   "execution_count": 3,
   "id": "bcd3ad84",
   "metadata": {},
   "outputs": [
    {
     "name": "stderr",
     "output_type": "stream",
     "text": [
      "C:\\Users\\field\\OneDrive\\Desktop\\cthmm\\cthmm\\cthmm.py:51: SyntaxWarning: assertion is always true, perhaps remove parentheses?\n",
      "  assert(len(self.startprob)==self.n_states, 'Len of startprob must equal # states')\n",
      "C:\\Users\\field\\OneDrive\\Desktop\\cthmm\\cthmm\\cthmm.py:52: SyntaxWarning: assertion is always true, perhaps remove parentheses?\n",
      "  assert(len(self.endprob)==self.n_states, 'Len of endprob must equal # states')\n"
     ]
    }
   ],
   "source": [
    "import numpy as np\n",
    "from scipy.linalg import fractional_matrix_power, expm\n",
    "import pandas as pd\n",
    "from matplotlib import pyplot as plt\n",
    "import cthmm"
   ]
  },
  {
   "cell_type": "code",
   "execution_count": 4,
   "id": "2e413614",
   "metadata": {},
   "outputs": [],
   "source": [
    "# Helper functions\n",
    "\n",
    "def get_state_mapper(seq1, seq2):\n",
    "    # Get mapping from states in seq1 --> state in seq2\n",
    "    # Assume most common state in seq1 is same state as in seq2, etc\n",
    "    state_mapper = dict(zip(\n",
    "        pd.Series(seq1).value_counts().index,\n",
    "        pd.Series(seq2).value_counts().index\n",
    "    ))\n",
    "    return state_mapper"
   ]
  },
  {
   "cell_type": "markdown",
   "id": "3aef0b84",
   "metadata": {},
   "source": [
    "# 1. Constructing a CT-HMM with known params and simulating data\n",
    "We will learn about the following methods:\n",
    "* MultinomialHMM(): the constructor\n",
    "* MultinomialHMM.simulate(): lets us simulate data\n",
    "\n",
    "Gotchas:\n",
    "* Time is numerical-valued, so you get to choose the units\n",
    "* A fitted CTHMM does NOT have any notion of how often observations are made.  To simulate data you must pass in a sample_dt() function that generates the random time lags between observations"
   ]
  },
  {
   "cell_type": "code",
   "execution_count": 6,
   "id": "ec1050d7",
   "metadata": {
    "scrolled": true
   },
   "outputs": [],
   "source": [
    "# Define parameters for a simple CT-HMM and simulate three sequences of data, two for training and one for testing\n",
    "\n",
    "# This gives the approx timescale for how long the system will remain in a given state.\n",
    "holding_time_guess = 20.0\n",
    "\n",
    "N_STATES = 3\n",
    "Q = (1.0/holding_time_guess) * np.array([\n",
    "    [-1.5, 1, 0.5],\n",
    "    [0.3, -1, 0.7],\n",
    "    [0.3, 0.2, -0.5]\n",
    "])\n",
    "emission_probs = np.array([\n",
    "    [0.6, 0.2, 0.2],\n",
    "    [0.2, 0.6, 0.2],\n",
    "    [0.2, 0.2, 0.6]\n",
    "])\n",
    "start_probs = np.array([0.6, 0.2, 0.2])\n",
    "\n",
    "real_hmm = cthmm.MultinomialCTHMM(n_states=N_STATES, Q=Q, emission_probs=emission_probs, startprob=start_probs)\n",
    "\n",
    "sample_dt = np.random.random  # time between observations is Uniform[0,1]\n",
    "#sample_dt = np.random.lognormal  # time between observations is heavy-tailed LogNormal\n",
    "\n",
    "# Create three DataFrames of simulated data\n",
    "df1 = real_hmm.simulate(n=1000, seed=1, sample_dt=sample_dt)\n",
    "df2 = real_hmm.simulate(n=1000, seed=2, sample_dt=sample_dt)\n",
    "df3 = real_hmm.simulate(n=1000, seed=3, sample_dt=sample_dt)"
   ]
  },
  {
   "cell_type": "markdown",
   "id": "baab8101",
   "metadata": {},
   "source": [
    "Rather than specifying the full Q matrix you can make life easier by just passing in the holding_time parameter when you construct the CTHMM.  In this case\n",
    "* Every state will have an average holding time of holding_time\n",
    "* All state transitions will be equally likely\n",
    "Obviously this is hugely constrained.  On the other hand, in real situations often you don't have the data available to construct a really good Q matrix, but you *do* have a rough sense of how long the system typically stays in a given state."
   ]
  },
  {
   "cell_type": "code",
   "execution_count": 7,
   "id": "ee37601f",
   "metadata": {},
   "outputs": [],
   "source": [
    "cthmm_w_uniform_Q = cthmm.MultinomialCTHMM(n_states=3, emission_probs=emission_probs, holding_time=20.0)"
   ]
  },
  {
   "cell_type": "markdown",
   "id": "39fd360a",
   "metadata": {},
   "source": [
    "# 2. Fitting a model to the data\n",
    "The two main params that get fitted are the emission probabilities (in this case it's a multinomial HMM - we could have other models like Gaussians instead) and the matrix Q.  Generally the emission probabiities are comparatively easy to fit, and you can use the EM algorithm to fit them.  If you have good business knowledge about what Q should be then you can just do that.\n",
    "\n",
    "If you want to fit Q as well then you can do that too, using the fit_model function.  Note that we strongly encourage using the default_Q(n_states) function as your starting guess, then dividing it by your best guesstimate of how long a particular state persists on average.\n",
    "\n",
    "We will learn about:\n",
    "* fit_multinomial_emission_probs(): uses Baum-Welch algo to fit multinomial emission probs\n",
    "* default_Q(): gives a good starting guess for Q if you know the # states and have a ballpark guess of the average holding time\n",
    "* fit_model(): fits Q and the emission probabilities\n",
    "\n",
    "Gotchas:\n",
    "* With normal HMMs a sequence of observation is something like a List[Observation], since the time of an observation is just its location in the list.  But we need to also include timestamps, and so we represent a sequence of data as a pair (List[Observation], List[Number]).  We could instead have used a List[Tuple(Observation,Number)], a Pandas sequence with its index, or something else along those lines."
   ]
  },
  {
   "cell_type": "code",
   "execution_count": 8,
   "id": "441dd313",
   "metadata": {
    "scrolled": true
   },
   "outputs": [
    {
     "name": "stdout",
     "output_type": "stream",
     "text": [
      "Starting emission_probs:\n",
      " [[0.38116185 0.18365921 0.43517895]\n",
      " [0.11277216 0.84958463 0.03764321]\n",
      " [0.4491129  0.21239428 0.33849282]]\n",
      "Updated emission_probs.  time=6sec\n",
      " [[0.20502653 0.19126965 0.60370382]\n",
      " [0.18005397 0.59541423 0.22453181]\n",
      " [0.62205424 0.18488838 0.19305738]]\n",
      "Final:\n",
      " [[0.20502653 0.19126965 0.60370382]\n",
      " [0.18005397 0.59541423 0.22453181]\n",
      " [0.62205424 0.18488838 0.19305738]]\n",
      "Correct:\n",
      " [[0.6 0.2 0.2]\n",
      " [0.2 0.6 0.2]\n",
      " [0.2 0.2 0.6]]\n"
     ]
    }
   ],
   "source": [
    "# If we have business knowledge of the Q matrix, which is tricky to fit, it is possible to ONLY fit \n",
    "# the emission probs:\n",
    "#imp.reload(cthmm)\n",
    "\n",
    "foo_hmm = cthmm.MultinomialCTHMM(n_states=N_STATES, n_emissions=3, Q=Q, seed=1)\n",
    "foo_hmm.fit_observation_params([(df1.emission, df1.time), (df2.emission, df2.time)], max_iter=10)\n",
    "print('Final:\\n', foo_hmm.emission_probs)\n",
    "print('Correct:\\n', emission_probs)"
   ]
  },
  {
   "cell_type": "code",
   "execution_count": 9,
   "id": "70e3e75d",
   "metadata": {
    "scrolled": false
   },
   "outputs": [
    {
     "name": "stdout",
     "output_type": "stream",
     "text": [
      "\n",
      "WARNING: in general the HMM may have renamed states, like mixing up 0 and 1.\n",
      "  Look out for that in comparing the fitted params to the actual ones\n",
      "\n",
      "Actual Q:\n",
      " [[-0.075  0.05   0.025]\n",
      " [ 0.015 -0.05   0.035]\n",
      " [ 0.015  0.01  -0.025]]\n",
      "Fitted Q:\n",
      " [[-0.04475077  0.00841078  0.03633999]\n",
      " [ 0.03164192 -0.05540048  0.02375856]\n",
      " [ 0.00661282  0.01156588 -0.0181787 ]]\n",
      "\n",
      "Actual emission probs:\n",
      " [[0.6 0.2 0.2]\n",
      " [0.2 0.6 0.2]\n",
      " [0.2 0.2 0.6]]\n",
      "Fitted emission probs:\n",
      " [[0.17577014 0.60077973 0.22345013]\n",
      " [0.62671098 0.1896978  0.18359122]\n",
      " [0.20692448 0.19308045 0.59999507]]\n"
     ]
    }
   ],
   "source": [
    "# We assume you have business knowledge that 20 units of time is roughly the timescale of how long a state lasts.\n",
    "holding_time_guess = 20.0\n",
    "\n",
    "np.random.seed(4)\n",
    "fitted_hmm = cthmm.MultinomialCTHMM(n_states=N_STATES, n_emissions=3, holding_time=holding_time_guess)\n",
    "fitted_hmm.fit([(df1.emission, df1.time), (df2.emission, df2.time)], verbose=False, max_iter=10)\n",
    "\n",
    "print('\\nWARNING: in general the HMM may have renamed states, like mixing up 0 and 1.'\n",
    "      '\\n  Look out for that in comparing the fitted params to the actual ones')\n",
    "print('\\nActual Q:\\n', Q)\n",
    "print('Fitted Q:\\n', fitted_hmm.Q)\n",
    "print('\\nActual emission probs:\\n', emission_probs)\n",
    "print('Fitted emission probs:\\n', fitted_hmm.emission_probs)"
   ]
  },
  {
   "cell_type": "markdown",
   "id": "1d412963",
   "metadata": {},
   "source": [
    "# 3. Decoding Observations\n",
    "The main use case of fitted HMMs is to take a sequence of observations and predict the underlying sequence of states that generated those observations.  There are two main algorithms for doing this (they are designed for normal HMMs, but they generalize easily to the continuous-time case) which usually give very similar results:\n",
    "\n",
    "* The Viterbi algorithm finds the single sequence of states that maximizes the a posteriori likelihood Pr[states]Pr[observations|states].  This is the default algorithm here.\n",
    "\n",
    "* The forward-backward algorithm computes the single best-guess state for every observation in the sequence.  This is often called the \"MAP\" guess (maximum a-posteriori).  The MAP guess can be different from the Viterbi algorithm if the best sequence has S1=sA, but several almost-as-good sequence have S1=sB.\n",
    "\n",
    "A major difference between them in practice that the forward-backward algorithm gives you a table of how likely each state is at each point in time.\n",
    "\n",
    "We will see:\n",
    "* MultinomialCTHMM.predict(): Predicting by either Viterbi or Forward-backward\n",
    "* MultinomialCTHMM.viterbi(): Viterbi algorithm\n",
    "* MultinomialCTHMM.forward_backward(): forward-backward algorithm, which returns the sequence *and* table of probs\n",
    "* MultinomialCTHMM.get_logprob(): gives the LogProb of a sequence of observations/states for a CT-HMM"
   ]
  },
  {
   "cell_type": "code",
   "execution_count": 10,
   "id": "cc47a16b",
   "metadata": {
    "scrolled": true
   },
   "outputs": [
    {
     "name": "stdout",
     "output_type": "stream",
     "text": [
      "FB guesses right more often than Viterbi:\n",
      "  Viterbi accuracy: 0.966\n",
      "  FB accuracy: 0.971\n",
      "\n",
      "LogProbs for Viterbi and FB predictions. We see that even though FB is right more often, \n",
      "the Viterbi seq has higher log-prob (this is to be expected).\n",
      "  Viterbi LogProb: -1163.4331153257099\n",
      "  FB LogProb: -1166.1088800473137\n"
     ]
    }
   ],
   "source": [
    "# Compare accuracies of Viterbi vs FB w the fitted params, vs FB if we had perfect param knowledge\n",
    "\n",
    "# Get predicted state sequences by viterbi or forward-backward algorithm\n",
    "viterbi_seq_raw = fitted_hmm.predict(df3.emission, df3.time)  # default algorithm='viterbi'\n",
    "fb_seq_raw = fitted_hmm.predict(df3.emission, df3.time, algorithm='forward-backward')\n",
    "\n",
    "# Run on the training data to get mapping between original states and fitted states\n",
    "seq1 = fitted_hmm.predict(df1.emission, df1.time)\n",
    "mapper = get_state_mapper(seq1, df1.state)\n",
    "\n",
    "# Correct for possibility that fitted_hmm gave underlying states different\n",
    "# names than were used to simulate them, like swapping states 0 and 1\n",
    "viterbi_seq = pd.Series(viterbi_seq_raw).apply(lambda s: mapper[s])\n",
    "fb_seq = pd.Series(fb_seq_raw).apply(lambda s: mapper[s])\n",
    "\n",
    "print('FB guesses right more often than Viterbi:')\n",
    "print('  Viterbi accuracy:', (viterbi_seq==df3.state).mean())\n",
    "print('  FB accuracy:', (fb_seq==df3.state).mean())\n",
    "\n",
    "print('\\nLogProbs for Viterbi and FB predictions. '\n",
    "     'We see that even though FB is right more often, '\n",
    "     '\\nthe Viterbi seq has higher log-prob (this is to be expected).')\n",
    "print('  Viterbi LogProb:', fitted_hmm.get_logprob(df3.emission, viterbi_seq, df3.time))\n",
    "print('  FB LogProb:', fitted_hmm.get_logprob(df3.emission, fb_seq, df3.time))"
   ]
  },
  {
   "cell_type": "code",
   "execution_count": 11,
   "id": "9c6dac2c",
   "metadata": {
    "scrolled": true
   },
   "outputs": [
    {
     "name": "stdout",
     "output_type": "stream",
     "text": [
      "\n",
      "When the FB alorithm IS wrong, its guesses were lower-confidence anyway\n"
     ]
    },
    {
     "data": {
      "image/png": "[encoded data removed]",
      "text/plain": [
       "<Figure size 432x288 with 2 Axes>"
      ]
     },
     "metadata": {
      "needs_background": "light"
     },
     "output_type": "display_data"
    }
   ],
   "source": [
    "import importlib\n",
    "importlib.reload(cthmm)\n",
    "# If we call the predict_proba() method we can get back\n",
    "# a matrix of all the a-posteriori probabilities.\n",
    "# Under the hood it is generated by the forward-backward algorithm\n",
    "fb_probs = fitted_hmm.predict_proba(df3.emission, df3.time)\n",
    "\n",
    "print('\\nWhen the FB alorithm IS wrong, its guesses were lower-confidence anyway')\n",
    "max_probs = pd.Series(fb_probs.max(axis=1))\n",
    "plt.subplot(121)\n",
    "max_probs[df3.state==fb_seq].hist();plt.title('Guessed Right');plt.xlabel('prob of best guess')\n",
    "plt.subplot(122)\n",
    "max_probs[df3.state!=fb_seq].hist();plt.title('Guessed Wrong');plt.xlabel('prob of best guess')\n",
    "plt.show()"
   ]
  },
  {
   "cell_type": "code",
   "execution_count": 12,
   "id": "e29283a0",
   "metadata": {},
   "outputs": [
    {
     "name": "stdout",
     "output_type": "stream",
     "text": [
      "To show the importance of accounting for irregular timestamps, \n",
      "here is accuracy if we just pretended time steps are all equal:\n",
      "  Vanilla HMM Accuracy: 0.564\n"
     ]
    }
   ],
   "source": [
    "# Compare to normal HMM\n",
    "\n",
    "from hmmlearn import hmm\n",
    "\n",
    "# Sometimes the results are bad enough you get the wrong state-state mapper.\n",
    "# This seed has it find the right one\n",
    "np.random.seed(4)\n",
    "\n",
    "inp1 = df1.emission.to_numpy().reshape((len(df1.emission),1))\n",
    "inp2 = df2.emission.to_numpy().reshape((len(df2.emission),1))\n",
    "inp12 = np.stack([inp1, inp2], axis=1).reshape((len(inp1)+len(inp2), 1))\n",
    "\n",
    "vanilla_hmm = hmm.MultinomialHMM(3)\n",
    "vanilla_hmm.fit(inp12, [len(inp1), len(inp2)])\n",
    "\n",
    "# Run on the training data to get mapping between original states and fitted states\n",
    "seq1 = vanilla_hmm.predict(inp1)\n",
    "mapper_vanilla = get_state_mapper(seq1, df1.state)\n",
    "\n",
    "# Predict states of test data\n",
    "inp = df3.emission.to_numpy().reshape((len(df3.emission),1))\n",
    "seq_vanilla = vanilla_hmm.predict(inp)\n",
    "\n",
    "print('To show the importance of accounting for irregular timestamps, '\n",
    "      '\\nhere is accuracy if we just pretended time steps are all equal:')\n",
    "print('  Vanilla HMM Accuracy:', pd.Series(seq_vanilla).apply(lambda s: mapper_vanilla[s]).eq(df3.state).mean())"
   ]
  },
  {
   "cell_type": "markdown",
   "id": "dbb2d8e3",
   "metadata": {},
   "source": [
    "# 4. Interpolating states at times with no observations\n",
    "Unlike a discrete-time HMM, in a CTHMM the system has an underlying state at *all* points in time, not just when we make observations.  One of the most important jobs of a CT-HMM is to be able to guess the state of the system at times in between observations.  You can do that with the interpolate() function, which takes in a sequence of observations, the times they were made, and then the times K at which you wish to interpolate.  It will return a K x n_states array giving the probabilities of each state at each time."
   ]
  },
  {
   "cell_type": "code",
   "execution_count": 13,
   "id": "4a8790c4",
   "metadata": {},
   "outputs": [
    {
     "name": "stdout",
     "output_type": "stream",
     "text": [
      "Notice the state change at time=301\n"
     ]
    },
    {
     "data": {
      "text/html": [
       "<div>\n",
       "<style scoped>\n",
       "    .dataframe tbody tr th:only-of-type {\n",
       "        vertical-align: middle;\n",
       "    }\n",
       "\n",
       "    .dataframe tbody tr th {\n",
       "        vertical-align: top;\n",
       "    }\n",
       "\n",
       "    .dataframe thead th {\n",
       "        text-align: right;\n",
       "    }\n",
       "</style>\n",
       "<table border=\"1\" class=\"dataframe\">\n",
       "  <thead>\n",
       "    <tr style=\"text-align: right;\">\n",
       "      <th></th>\n",
       "      <th>time</th>\n",
       "      <th>state</th>\n",
       "      <th>emission</th>\n",
       "    </tr>\n",
       "  </thead>\n",
       "  <tbody>\n",
       "    <tr>\n",
       "      <th>600</th>\n",
       "      <td>300.326617</td>\n",
       "      <td>2</td>\n",
       "      <td>1</td>\n",
       "    </tr>\n",
       "    <tr>\n",
       "      <th>601</th>\n",
       "      <td>300.660227</td>\n",
       "      <td>2</td>\n",
       "      <td>2</td>\n",
       "    </tr>\n",
       "    <tr>\n",
       "      <th>602</th>\n",
       "      <td>301.560567</td>\n",
       "      <td>0</td>\n",
       "      <td>0</td>\n",
       "    </tr>\n",
       "    <tr>\n",
       "      <th>603</th>\n",
       "      <td>301.796089</td>\n",
       "      <td>0</td>\n",
       "      <td>1</td>\n",
       "    </tr>\n",
       "  </tbody>\n",
       "</table>\n",
       "</div>"
      ],
      "text/plain": [
       "           time  state  emission\n",
       "600  300.326617      2         1\n",
       "601  300.660227      2         2\n",
       "602  301.560567      0         0\n",
       "603  301.796089      0         1"
      ]
     },
     "execution_count": 13,
     "metadata": {},
     "output_type": "execute_result"
    }
   ],
   "source": [
    "print('Notice the state change at time=301')\n",
    "df1[600:604]"
   ]
  },
  {
   "cell_type": "code",
   "execution_count": 14,
   "id": "a9c5d5b4",
   "metadata": {
    "scrolled": true
   },
   "outputs": [
    {
     "name": "stdout",
     "output_type": "stream",
     "text": [
      "Notice that:\n",
      "* Way before/after the data the predictions are almost identical\n",
      "  since the system is near its stationary distribution.\n",
      "* The interpolation catches the state change at time=301 (though the\n",
      "  CTHMM swapped which state is 0 and which is 1)\n",
      "Stationary distribution:\n",
      " [0.20812814 0.16290594 0.62896592]\n",
      "Interpolated states:\n",
      " [[0.2124623  0.16332366 0.62421404]\n",
      " [0.01198385 0.26919321 0.72241716]\n",
      " [0.00684639 0.75555538 0.23693166]\n",
      " [0.20808816 0.16270295 0.62920888]]\n"
     ]
    }
   ],
   "source": [
    "mn, mx = df1.time.min(), df1.time.max()\n",
    "times_to_interp = [\n",
    "    mn-100, # way before 1st obs\n",
    "    300.5, # right before state change\n",
    "    301.6, # right after state change\n",
    "    mx+100 # way after last obs\n",
    "]\n",
    "print('Notice that:'\n",
    "      '\\n* Way before/after the data the predictions are almost identical'\n",
    "      '\\n  since the system is near its stationary distribution.'\n",
    "      '\\n* The interpolation catches the state change at time=301 (though the'\n",
    "      '\\n  CTHMM swapped which state is 0 and which is 1)'\n",
    "     )\n",
    "print('Stationary distribution:\\n', fitted_hmm.get_stationary_distribution())\n",
    "print('Interpolated states:\\n', fitted_hmm.interpolate(df1.emission, df1.time, times_to_interp))"
   ]
  }
 ],
 "metadata": {
  "kernelspec": {
   "display_name": "Python 3 (ipykernel)",
   "language": "python",
   "name": "python3"
  },
  "language_info": {
   "codemirror_mode": {
    "name": "ipython",
    "version": 3
   },
   "file_extension": ".py",
   "mimetype": "text/x-python",
   "name": "python",
   "nbconvert_exporter": "python",
   "pygments_lexer": "ipython3",
   "version": "3.8.8"
  }
 },
 "nbformat": 4,
 "nbformat_minor": 5
}
